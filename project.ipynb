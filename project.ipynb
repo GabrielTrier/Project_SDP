{
 "cells": [
  {
   "cell_type": "code",
   "execution_count": 3,
   "metadata": {},
   "outputs": [],
   "source": [
    "# Loading the dataset \n",
    "import pandas as pd\n",
    "brick_index_value = pd.read_csv('./bricks_index_values.csv')\n",
    "brick_rp_distances = pd.read_csv('./brick_rp_distances.csv')\n",
    "#distances= pd.read_csv('./distances.xlsx')\n",
    "pfizer =pd.read_csv('./Pfitzer10-100.csv', sep=';')"
   ]
  }
 ],
 "metadata": {
  "kernelspec": {
   "display_name": "base",
   "language": "python",
   "name": "python3"
  },
  "language_info": {
   "codemirror_mode": {
    "name": "ipython",
    "version": 3
   },
   "file_extension": ".py",
   "mimetype": "text/x-python",
   "name": "python",
   "nbconvert_exporter": "python",
   "pygments_lexer": "ipython3",
   "version": "3.12.7"
  }
 },
 "nbformat": 4,
 "nbformat_minor": 2
}
